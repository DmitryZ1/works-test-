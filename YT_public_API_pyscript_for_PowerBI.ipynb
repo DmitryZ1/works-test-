{
 "cells": [
  {
   "cell_type": "code",
   "execution_count": null,
   "id": "2cad32af",
   "metadata": {},
   "outputs": [],
   "source": [
    "#Importing required packages\n",
    "\n",
    "from googleapiclient.discovery import build\n",
    "import pandas as pd\n",
    "from datetime import datetime"
   ]
  },
  {
   "cell_type": "code",
   "execution_count": null,
   "id": "6deff362",
   "metadata": {},
   "outputs": [],
   "source": [
    "#Creating Objects\n",
    "\n",
    "youTubeApiKey='your_API_key'\n",
    "youtube= build(\"youtube\",\"v3\",developerKey=youTubeApiKey) #We’re using YouTube Data API v3\n",
    "\n",
    "channel_id = 'interested_channel_id'"
   ]
  },
  {
   "cell_type": "code",
   "execution_count": null,
   "id": "2d62f854",
   "metadata": {},
   "outputs": [],
   "source": [
    "statdata = youtube.channels().list(part = \"statistics\",id = channel_id).execute()\n",
    "statdata"
   ]
  },
  {
   "cell_type": "code",
   "execution_count": null,
   "id": "34b61e72",
   "metadata": {},
   "outputs": [],
   "source": [
    "#Calling Data from API\n",
    "\n",
    "statdata = youtube.channels().list(part = \"statistics\",id = channel_id).execute()\n",
    "stats = statdata[\"items\"][0][\"statistics\"]\n",
    "stats"
   ]
  },
  {
   "cell_type": "code",
   "execution_count": null,
   "id": "4452fb41",
   "metadata": {},
   "outputs": [],
   "source": [
    "#Getting Snippet Data\n",
    "\n",
    "snippetdata=youtube.channels().list(part=\"snippet\",id=channel_id).execute()\n",
    "snippetdata"
   ]
  },
  {
   "cell_type": "code",
   "execution_count": null,
   "id": "47d29a5d",
   "metadata": {},
   "outputs": [],
   "source": [
    "#Getting Details of all videos\n",
    "\n",
    "contentdata = youtube.channels().list(id = channel_id, part = 'contentDetails').execute()\n",
    "playlist_id = contentdata['items'][0]['contentDetails']['relatedPlaylists']['uploads']\n",
    "videos = [ ]\n",
    "next_page_token = None\n",
    "while 1:\n",
    "    res = youtube.playlistItems().list(playlistId = playlist_id,\n",
    "                                       part = 'snippet',\n",
    "                                       maxResults = 50,\n",
    "                                       pageToken = next_page_token).execute()\n",
    "    videos += res[\"items\"]\n",
    "    next_page_token = res.get('nextPageToken')\n",
    "    if next_page_token is None:\n",
    "        break\n",
    "\n",
    "print(videos)"
   ]
  },
  {
   "cell_type": "code",
   "execution_count": null,
   "id": "422c6bb1",
   "metadata": {},
   "outputs": [],
   "source": [
    "#Getting Video ID for each Video\n",
    "\n",
    "video_ids = list(map(lambda x:x['snippet']['resourceId']['videoId'], videos))\n",
    "video_ids"
   ]
  },
  {
   "cell_type": "code",
   "execution_count": null,
   "id": "1eda045e",
   "metadata": {},
   "outputs": [],
   "source": [
    "#Getting the statistics of each video\n",
    "\n",
    "stats = []\n",
    "for i in range(0, len(video_ids), 40):\n",
    "    res = (youtube).videos().list(id = \",\".join(video_ids[i:i+40]), part = \"statistics\").execute()\n",
    "    stats += res[\"items\"]\n",
    "    print(stats)"
   ]
  },
  {
   "cell_type": "code",
   "execution_count": null,
   "id": "bbece48f",
   "metadata": {},
   "outputs": [],
   "source": [
    "#Collecting All Information in a List & creating a dataframe\n",
    "\n",
    "title = [ ]\n",
    "publishedAt = [ ]\n",
    "liked = [ ]\n",
    "#disliked = [ ]\n",
    "views = [ ]\n",
    "url = [ ]\n",
    "comment = [ ]\n",
    "\n",
    "for i in range(len(videos)):\n",
    "    title.append((videos[i])['snippet']['title'])\n",
    "    publishedAt.append((videos[i])['snippet']['publishedAt'])\n",
    "    url.append(\"https://www.youtube.com/watch?v=\" + (videos[i])['snippet']['resourceId']['videoId'])\n",
    "    liked.append(int((stats[i])['statistics']['likeCount']))\n",
    "    #disliked.append(int((stats[i])['statistics']['dislikeCount']))\n",
    "    views.append(int((stats[i])['statistics']['viewCount']))\n",
    "    comment.append(int((stats[i])['statistics']['commentCount']))\n",
    "\n",
    "data = {\"title\":title, \"upload date\":publishedAt, \"url\":url,\"liked\":liked,\"views\":views,\"comment\":comment}\n",
    "\n",
    "df = pd.DataFrame(data)\n",
    "df"
   ]
  },
  {
   "cell_type": "code",
   "execution_count": null,
   "id": "3f8802a7",
   "metadata": {},
   "outputs": [],
   "source": []
  }
 ],
 "metadata": {
  "kernelspec": {
   "display_name": "Python 3 (ipykernel)",
   "language": "python",
   "name": "python3"
  },
  "language_info": {
   "codemirror_mode": {
    "name": "ipython",
    "version": 3
   },
   "file_extension": ".py",
   "mimetype": "text/x-python",
   "name": "python",
   "nbconvert_exporter": "python",
   "pygments_lexer": "ipython3",
   "version": "3.9.13"
  }
 },
 "nbformat": 4,
 "nbformat_minor": 5
}
